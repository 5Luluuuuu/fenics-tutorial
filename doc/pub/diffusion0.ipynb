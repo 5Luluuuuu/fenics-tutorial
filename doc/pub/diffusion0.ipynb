{
 "cells": [
  {
   "cell_type": "markdown",
   "metadata": {},
   "source": [
    "<!-- Stand-alone notebook? -->\n",
    "\n",
    "\n",
    "\n",
    "# The time-dependent diffusion equation\n",
    "<div id=\"tut:timedep\"></div>\n",
    "\n",
    "Previous examples on using FEniCS to solve the Poisson equation\n",
    "illustrate that solving linear, stationary PDE problems with the aid\n",
    "of FEniCS is easy and requires little programming.  FEniCS clearly\n",
    "automates the spatial discretization by the finite element method. One\n",
    "can use a separate, one-dimensional finite element method in the\n",
    "domain as well, but very often, it is easier to just use a finite\n",
    "difference method, or to formulate the problem as an ODE system and\n",
    "leave the time-stepping to an ODE solver.\n",
    "\n",
    "<!-- The solution of -->\n",
    "<!-- nonlinear problems, as we showed in Section -->\n",
    "<!-- ref{tut:poisson:nonlinear}, can also be automated (cf. Section -->\n",
    "<!-- ref{tut:nonlinear:Newton:auto}), but many scientists will prefer to -->\n",
    "<!-- code the solution strategy of the nonlinear problem themselves and -->\n",
    "<!-- experiment with various combinations of strategies in difficult -->\n",
    "<!-- problems. Time-dependent problems are somewhat similar in this -->\n",
    "<!-- respect: we have to add a time discretization scheme, which is often -->\n",
    "<!-- quite simple, making it natural to explicitly code the details of the -->\n",
    "<!-- scheme so that the programmer has full control. -->\n",
    "<!-- We shall explain how -->\n",
    "<!-- easily this is accomplished through examples. -->\n",
    "\n",
    "[hpl 1: Should exemplify all three approaches? With emphasis on\n",
    "simple finite differences?]\n",
    "\n",
    "## Variational formulation\n",
    "<div id=\"tut:timedep:diffusion1\"></div>\n",
    "\n",
    "Our model problem for time-dependent PDEs reads"
   ]
  },
  {
   "cell_type": "markdown",
   "metadata": {},
   "source": [
    "<!-- Equation labels as ordinary links -->\n",
    "<div id=\"tut:diffusion:pde1\"></div>\n",
    "\n",
    "$$\n",
    "\\begin{equation}\n",
    "{\\partial u\\over\\partial t} = \\nabla^2 u + f\\hbox{ in }\\Omega,\n",
    "\\label{tut:diffusion:pde1} \\tag{1}\n",
    "\\end{equation}\n",
    "$$"
   ]
  },
  {
   "cell_type": "markdown",
   "metadata": {},
   "source": [
    "<!-- Equation labels as ordinary links -->\n",
    "<div id=\"tut:diffusion:pde1:bc\"></div>\n",
    "\n",
    "$$\n",
    "\\begin{equation}  \n",
    "u = u_0\\hbox{ on } \\partial \\Omega,\n",
    "\\label{tut:diffusion:pde1:bc} \\tag{2}\n",
    "\\end{equation}\n",
    "$$"
   ]
  },
  {
   "cell_type": "markdown",
   "metadata": {},
   "source": [
    "<!-- Equation labels as ordinary links -->\n",
    "<div id=\"tut:diffusion:pde1:ic\"></div>\n",
    "\n",
    "$$\n",
    "\\begin{equation}  \n",
    "u = I \\mbox{ at } t=0{\\thinspace .}\n",
    "\\label{tut:diffusion:pde1:ic} \\tag{3}\n",
    "\\end{equation}\n",
    "$$"
   ]
  },
  {
   "cell_type": "markdown",
   "metadata": {},
   "source": [
    "Here, $u$ varies with space and time, e.g., $u=u(x,y,t)$ if the spatial\n",
    "domain $\\Omega$ is two-dimensional. The source function $f$ and the\n",
    "boundary values $u_0$ may also vary with space and time.\n",
    "The initial condition $I$ is a function of space only.\n",
    "\n",
    "A straightforward approach to solving time-dependent PDEs by the\n",
    "finite element method is to first discretize the time derivative by a\n",
    "finite difference approximation, which yields a recursive set of\n",
    "stationary problems, and then turn each stationary problem into a\n",
    "variational formulation.\n",
    "\n",
    "Let superscript $k$ denote a quantity at time $t_k$, where $k$ is an\n",
    "integer counting time levels. For example, $u^k$ means $u$ at time\n",
    "level $k$.  A finite difference discretization in time first consists\n",
    "in sampling the PDE at some time level, say $k$:"
   ]
  },
  {
   "cell_type": "markdown",
   "metadata": {},
   "source": [
    "<!-- Equation labels as ordinary links -->\n",
    "<div id=\"tut:diffusion:pde1:tk\"></div>\n",
    "\n",
    "$$\n",
    "\\begin{equation} {\\partial \\over\\partial t}u^k = \\nabla^2 u^k + f^k{\\thinspace .}\n",
    "\\label{tut:diffusion:pde1:tk} \\tag{4}\n",
    "\\end{equation}\n",
    "$$"
   ]
  },
  {
   "cell_type": "markdown",
   "metadata": {},
   "source": [
    "The time-derivative can be approximated by a finite difference.\n",
    "For simplicity and stability reasons we choose a\n",
    "simple backward difference:"
   ]
  },
  {
   "cell_type": "markdown",
   "metadata": {},
   "source": [
    "<!-- Equation labels as ordinary links -->\n",
    "<div id=\"tut:diffusion:BE\"></div>\n",
    "\n",
    "$$\n",
    "\\begin{equation} {\\partial \\over\\partial t}u^k\\approx {u^k - u^{k-1}\\over{{\\Delta t}}},\n",
    "\\label{tut:diffusion:BE} \\tag{5}\n",
    "\\end{equation}\n",
    "$$"
   ]
  },
  {
   "cell_type": "markdown",
   "metadata": {},
   "source": [
    "where ${\\Delta t}$ is the time discretization parameter.\n",
    "Inserting [(5)](#tut:diffusion:BE) in [(4)](#tut:diffusion:pde1:tk) yields"
   ]
  },
  {
   "cell_type": "markdown",
   "metadata": {},
   "source": [
    "<!-- Equation labels as ordinary links -->\n",
    "<div id=\"tut:diffusion:pde1:BE\"></div>\n",
    "\n",
    "$$\n",
    "\\begin{equation}\n",
    "{u^k - u^{k-1}\\over{{\\Delta t}}} = \\nabla^2 u^k + f^k{\\thinspace .}\n",
    "\\label{tut:diffusion:pde1:BE} \\tag{6}\n",
    "\\end{equation}\n",
    "$$"
   ]
  },
  {
   "cell_type": "markdown",
   "metadata": {},
   "source": [
    "This is our time-discrete version of the diffusion PDE\n",
    "[(1)](#tut:diffusion:pde1).\n",
    "\n",
    "We may reorder [(6)](#tut:diffusion:pde1:BE) so\n",
    "that the left-hand side contains the terms with the unknown $u^k$ and\n",
    "the right-hand side contains computed terms only. The result\n",
    "is a recursive set of spatial\n",
    "(stationary) problems for $u^k$ (assuming $u^{k-1}$ is known from\n",
    "computations at the previous time level):"
   ]
  },
  {
   "cell_type": "markdown",
   "metadata": {},
   "source": [
    "<!-- Equation labels as ordinary links -->\n",
    "<div id=\"tut:diffusion:pde1:u0\"></div>\n",
    "\n",
    "$$\n",
    "\\begin{equation}\n",
    "u^0 = I, \\label{tut:diffusion:pde1:u0} \\tag{7}\n",
    "\\end{equation}\n",
    "$$"
   ]
  },
  {
   "cell_type": "markdown",
   "metadata": {},
   "source": [
    "<!-- Equation labels as ordinary links -->\n",
    "<div id=\"tut:diffusion:pde1:uk\"></div>\n",
    "\n",
    "$$\n",
    "\\begin{equation}  \n",
    "u^k - {{\\Delta t}}\\nabla^2 u^k =  u^{k-1} + {{\\Delta t}} f^k,\\quad k=1,2,\\ldots\n",
    "\\label{tut:diffusion:pde1:uk} \\tag{8}\n",
    "\\end{equation}\n",
    "$$"
   ]
  },
  {
   "cell_type": "markdown",
   "metadata": {},
   "source": [
    "Given $I$, we can solve for $u^0$, $u^1$, $u^2$, and so on.\n",
    "\n",
    "As an alternative to [(8)](#tut:diffusion:pde1:uk), which can be\n",
    "convenient in implementations, we may collect\n",
    "all terms on one side of the equality sign:"
   ]
  },
  {
   "cell_type": "markdown",
   "metadata": {},
   "source": [
    "<!-- Equation labels as ordinary links -->\n",
    "<div id=\"tut:diffusion:pde1:uk2\"></div>\n",
    "\n",
    "$$\n",
    "\\begin{equation}\n",
    "u^k - {{\\Delta t}}\\nabla^2 u^k -  u^{k-1} - {{\\Delta t}} f^k = ,\\quad k=1,2,\\ldots\n",
    "\\label{tut:diffusion:pde1:uk2} \\tag{9}\n",
    "\\end{equation}\n",
    "$$"
   ]
  },
  {
   "cell_type": "markdown",
   "metadata": {},
   "source": [
    "We use a finite element method to solve\n",
    "[(7)](#tut:diffusion:pde1:u0) and either of the equations\n",
    "[(8)](#tut:diffusion:pde1:uk) or [(9)](#tut:diffusion:pde1:uk2).  This\n",
    "requires turning the equations into weak forms.  As usual, we multiply\n",
    "by a test function $v\\in \\hat V$ and integrate second-derivatives by\n",
    "parts. Introducing the symbol $u$ for $u^k$ (which is natural in the\n",
    "program), the resulting weak form can be conveniently written in\n",
    "the standard notation:"
   ]
  },
  {
   "cell_type": "markdown",
   "metadata": {},
   "source": [
    "$$\n",
    "a_0(u,v)=L_0(v),\n",
    "$$"
   ]
  },
  {
   "cell_type": "markdown",
   "metadata": {},
   "source": [
    "for\n",
    "[(7)](#tut:diffusion:pde1:u0). The formulation [(8)](#tut:diffusion:pde1:uk)\n",
    "gives rise to"
   ]
  },
  {
   "cell_type": "markdown",
   "metadata": {},
   "source": [
    "$$\n",
    "a(u,v)=L(v),\n",
    "$$"
   ]
  },
  {
   "cell_type": "markdown",
   "metadata": {},
   "source": [
    "where"
   ]
  },
  {
   "cell_type": "markdown",
   "metadata": {},
   "source": [
    "<!-- Equation labels as ordinary links -->\n",
    "<div id=\"tut:diffusion:pde1:a0\"></div>\n",
    "\n",
    "$$\n",
    "\\begin{equation}\n",
    "a_0(u,v) = \\int_\\Omega uv {\\, \\mathrm{d}x}, \\label{tut:diffusion:pde1:a0} \\tag{10}\n",
    "\\end{equation}\n",
    "$$"
   ]
  },
  {
   "cell_type": "markdown",
   "metadata": {},
   "source": [
    "<!-- Equation labels as ordinary links -->\n",
    "<div id=\"tut:diffusion:pde1:L0\"></div>\n",
    "\n",
    "$$\n",
    "\\begin{equation}  \n",
    "L_0(v) = \\int_\\Omega Iv {\\, \\mathrm{d}x}, \\label{tut:diffusion:pde1:L0} \\tag{11}\n",
    "\\end{equation}\n",
    "$$"
   ]
  },
  {
   "cell_type": "markdown",
   "metadata": {},
   "source": [
    "<!-- Equation labels as ordinary links -->\n",
    "<div id=\"tut:diffusion:pde1:a\"></div>\n",
    "\n",
    "$$\n",
    "\\begin{equation}  \n",
    "a(u,v) = \\int_\\Omega\\left( uv + {{\\Delta t}}\n",
    "\\nabla u\\cdot \\nabla v\\right) {\\, \\mathrm{d}x}, \\label{tut:diffusion:pde1:a} \\tag{12}\n",
    "\\end{equation}\n",
    "$$"
   ]
  },
  {
   "cell_type": "markdown",
   "metadata": {},
   "source": [
    "<!-- Equation labels as ordinary links -->\n",
    "<div id=\"tut:diffusion:pde1:L\"></div>\n",
    "\n",
    "$$\n",
    "\\begin{equation}  \n",
    "L(v) = \\int_\\Omega \\left(u^{k-1} + {{\\Delta t}}  f^k\\right)v {\\, \\mathrm{d}x}{\\thinspace .}\n",
    "\\label{tut:diffusion:pde1:L} \\tag{13}\n",
    "\\end{equation}\n",
    "$$"
   ]
  },
  {
   "cell_type": "markdown",
   "metadata": {},
   "source": [
    "The alternative form [(9)](#tut:diffusion:pde1:uk2) has a formulation"
   ]
  },
  {
   "cell_type": "markdown",
   "metadata": {},
   "source": [
    "$$\n",
    "F(u,v) = 0,\n",
    "$$"
   ]
  },
  {
   "cell_type": "markdown",
   "metadata": {},
   "source": [
    "where"
   ]
  },
  {
   "cell_type": "markdown",
   "metadata": {},
   "source": [
    "<!-- Equation labels as ordinary links -->\n",
    "<div id=\"tut:diffusion:pde1:F\"></div>\n",
    "\n",
    "$$\n",
    "\\begin{equation}\n",
    "F = \\int_\\Omega\\left( uv + {{\\Delta t}}\n",
    "\\nabla u\\cdot \\nabla v -\n",
    "\\left(u^{k-1} - {{\\Delta t}}  f^k\\right)v\\right) {\\, \\mathrm{d}x}{\\thinspace .}\n",
    "\\label{tut:diffusion:pde1:F} \\tag{14}\n",
    "\\end{equation}\n",
    "$$"
   ]
  },
  {
   "cell_type": "markdown",
   "metadata": {},
   "source": [
    "The continuous variational problem is to find\n",
    "$u^0\\in V$ such that $a_0(u^0,v)=L_0(v)$ holds for all $v\\in\\hat V$,\n",
    "and then find $u^k\\in V$\n",
    "such that $a(u^k,v)=L(v)$ for all $v\\in\\hat V$,\n",
    "or alternatively, $F(u^k,v)=0$ for all $v\\in\\hat V$,\n",
    "$k=1,2,\\ldots$.\n",
    "\n",
    "Approximate solutions in space are found by restricting the functional\n",
    "spaces $V$ and $\\hat V$ to finite-dimensional spaces, exactly as we\n",
    "have done in the Poisson problems.  We shall use the symbol $u$ for\n",
    "the finite element approximation at time $t_k$. In case we need to\n",
    "distinguish this space-time discrete approximation from the exact\n",
    "solution of the continuous diffusion problem, we use ${u_{\\small\\mbox{e}}}$ for the\n",
    "latter.  By $u^{k-1}$ we mean the finite element approximation of the\n",
    "solution at time $t_{k-1}$.\n",
    "\n",
    "Instead of solving [(7)](#tut:diffusion:pde1:u0) by a finite element\n",
    "method, i.e., projecting $I$ onto $V$ via the problem\n",
    "$a_0(u,v)=L_0(v)$, we could simply interpolate $u^0$ from $I$. That\n",
    "is, if $u^0=\\sum_{j=1}^N U^0_j\\phi_j$, we simply set $U_j=I(x_j,y_j)$,\n",
    "where $(x_j,y_j)$ are the coordinates of node number $j$. We refer to\n",
    "these two strategies as computing the initial condition by either\n",
    "projecting $I$ or interpolating $I$.  Both operations are easy to\n",
    "compute through one statement, using either the `project` or\n",
    "`interpolate` function.\n",
    "\n",
    "## A simple implementation\n",
    "<div id=\"tut:timedep:diffusion1:impl\"></div>\n",
    "\n",
    "Our program needs to implement the time stepping explicitly, but can\n",
    "rely on FEniCS to easily compute $a_0$, $L_0$, $F$, $a$, and $L$, and solve\n",
    "the linear systems for the unknowns.\n",
    "\n",
    "### Test problem\n",
    "\n",
    "Before starting the coding, we shall construct a problem where it is\n",
    "easy to determine if the calculations are correct. The simple backward\n",
    "time difference is exact for linear functions, so we decide to have\n",
    "a linear variation in time. Combining a second-degree polynomial in space\n",
    "with a linear term in time,"
   ]
  },
  {
   "cell_type": "markdown",
   "metadata": {},
   "source": [
    "<!-- Equation labels as ordinary links -->\n",
    "<div id=\"tut:diffusion:pde1:u0test\"></div>\n",
    "\n",
    "$$\n",
    "\\begin{equation} u = 1 + x^2 + \\alpha y^2 + \\beta t,\n",
    "\\label{tut:diffusion:pde1:u0test} \\tag{15}\n",
    "\\end{equation}\n",
    "$$"
   ]
  },
  {
   "cell_type": "markdown",
   "metadata": {},
   "source": [
    "yields a function whose computed values at the nodes will be exact,\n",
    "regardless of the size of the elements and ${\\Delta t}$, as long as the mesh\n",
    "is uniformly partitioned.  By inserting\n",
    "[(15)](#tut:diffusion:pde1:u0test) in the PDE problem\n",
    "[(1)](#tut:diffusion:pde1), it follows that $u_0$ must be given as\n",
    "[(15)](#tut:diffusion:pde1:u0test) and that $f(x,y,t)=\\beta - 2 -\n",
    "2\\alpha$ and $I(x,y)=1+x^2+\\alpha y^2$.\n",
    "\n",
    "\n",
    "### The code\n",
    "\n",
    "We first create a mesh:"
   ]
  },
  {
   "cell_type": "code",
   "execution_count": 1,
   "metadata": {
    "collapsed": false
   },
   "outputs": [],
   "source": [
    "from __future__ import print_function\n",
    "from fenics import *\n",
    "import numpy as np\n",
    "\n",
    "# Create mesh and define function space\n",
    "nx = ny = 4\n",
    "mesh = UnitSquareMesh(nx, ny)\n",
    "V = FunctionSpace(mesh, 'P', 1)"
   ]
  },
  {
   "cell_type": "markdown",
   "metadata": {},
   "source": [
    "A new programming issue is how to deal with functions that vary in\n",
    "space *and time*, such as the boundary condition $u_0$ given by\n",
    "[(15)](#tut:diffusion:pde1:u0test).  A natural solution is to apply an\n",
    "`Expression` object with time $t$ as a parameter, in addition to the\n",
    "parameters $\\alpha$ and $\\beta$\n",
    "for `Expression` objects with parameters:"
   ]
  },
  {
   "cell_type": "code",
   "execution_count": 2,
   "metadata": {
    "collapsed": false
   },
   "outputs": [],
   "source": [
    "# Create mesh and define function space\n",
    "alpha = 3; beta = 1.2\n",
    "u0 = Expression('1 + x[0]*x[0] + alpha*x[1]*x[1] + beta*t',\n",
    "                alpha=alpha, beta=beta, t=0)"
   ]
  },
  {
   "cell_type": "markdown",
   "metadata": {},
   "source": [
    "This function expression has the components of `x` as independent\n",
    "variables, while `alpha`, `beta`, and `t` are parameters.  The\n",
    "parameters can later be updated as in"
   ]
  },
  {
   "cell_type": "markdown",
   "metadata": {},
   "source": [
    "```Python\n",
    "        u0.t = t\n",
    "```"
   ]
  },
  {
   "cell_type": "markdown",
   "metadata": {},
   "source": [
    "The essential boundary conditions, along the whole boundary in this case,\n",
    "are set in the usual way,"
   ]
  },
  {
   "cell_type": "code",
   "execution_count": 3,
   "metadata": {
    "collapsed": false
   },
   "outputs": [],
   "source": [
    "def boundary(x, on_boundary):  # define the Dirichlet boundary\n",
    "    return on_boundary\n",
    "\n",
    "bc = DirichletBC(V, u0, boundary)"
   ]
  },
  {
   "cell_type": "markdown",
   "metadata": {},
   "source": [
    "We shall use `u` for the unknown $u$ at the new time level and `u_1`\n",
    "for $u$ at the previous time level.  The initial value of `u_1`,\n",
    "implied by the initial condition on $u$, can be computed by either\n",
    "projecting or interpolating $I$.  The $I(x,y)$ function is available\n",
    "in the program through `u0`, as long as `u0.t` is zero.  We can then\n",
    "do"
   ]
  },
  {
   "cell_type": "markdown",
   "metadata": {},
   "source": [
    "```Python\n",
    "        u_1 = interpolate(u0, V)\n",
    "        # or\n",
    "        u_1 = project(u0, V)\n",
    "```"
   ]
  },
  {
   "cell_type": "code",
   "execution_count": 4,
   "metadata": {
    "collapsed": true
   },
   "outputs": [],
   "source": [
    "u_1 = interpolate(u0, V)"
   ]
  },
  {
   "cell_type": "markdown",
   "metadata": {},
   "source": [
    "**Projecting versus interpolating the initial condition.**\n",
    "\n",
    "To actually recover the\n",
    "exact solution [(15)](#tut:diffusion:pde1:u0test) to machine precision,\n",
    "it is important not to compute the discrete initial condition by\n",
    "projecting $I$, but by interpolating $I$ so that the nodal values are\n",
    "exact at $t=0$ (projection results in approximative values at the\n",
    "nodes).\n",
    "\n",
    "\n",
    "\n",
    "We may either define $a$ or $L$ according to the formulas above, or\n",
    "we may just define $F$ and ask FEniCS to figure out which terms that\n",
    "go into the bilinear form $a$ and which that go into the linear form\n",
    "$L$. The latter is convenient, especially in more complicated problems,\n",
    "so we illustrate that construction:"
   ]
  },
  {
   "cell_type": "code",
   "execution_count": 5,
   "metadata": {
    "collapsed": false
   },
   "outputs": [],
   "source": [
    "dt = 0.3      # time step\n",
    "\n",
    "u = TrialFunction(V)\n",
    "v = TestFunction(V)\n",
    "f = Constant(beta - 2 - 2*alpha)\n",
    "\n",
    "F = u*v*dx + dt*dot(grad(u), grad(v))*dx - (u_1 + dt*f)*v*dx\n",
    "a, L = lhs(F), rhs(F)"
   ]
  },
  {
   "cell_type": "markdown",
   "metadata": {},
   "source": [
    "Finally, we perform the time stepping in a loop:"
   ]
  },
  {
   "cell_type": "code",
   "execution_count": 6,
   "metadata": {
    "collapsed": false
   },
   "outputs": [],
   "source": [
    "u = Function(V)   # the unknown at a new time level\n",
    "T = 2             # total simulation time\n",
    "t = dt\n",
    "\n",
    "while t <= T:\n",
    "    u0.t = t\n",
    "    solve(a == L, u, bc)\n",
    "\n",
    "    # Verify\n",
    "    u_e = interpolate(u0, V)\n",
    "    error = np.abs(u_e.vector().array() -\n",
    "                   u.vector().array()).max()\n",
    "    print('error, t=%.2f: %-10.3g' % (t, max_error))\n",
    "    t += dt\n",
    "    u_1.assign(u)"
   ]
  },
  {
   "cell_type": "markdown",
   "metadata": {},
   "source": [
    "**Remember to update expression objects with the current time!**\n",
    "\n",
    "Inside the time loop,\n",
    "observe that `u0.t` must be updated before the `solve` statement\n",
    "to enforce computation of Dirichlet conditions at the\n",
    "current time level. (The Dirichlet conditions look up the `u0` object\n",
    "for values.)\n",
    "\n",
    "\n",
    "\n",
    "\n",
    "\n",
    "## Diffusion of a Gaussian function\n",
    "\n",
    "### The mathematical problem\n",
    "\n",
    "Now we want to solve a more physical problem, namely the diffusion of\n",
    "a Gaussian hill. It means that the initial condition is given by"
   ]
  },
  {
   "cell_type": "markdown",
   "metadata": {},
   "source": [
    "$$\n",
    "I(x,y)= e^{-ax^2 - ay^2}\n",
    "$$"
   ]
  },
  {
   "cell_type": "markdown",
   "metadata": {},
   "source": [
    "on a domain $[-2,2]\\times [2,2]$. A possible value of $a$ is 5.\n",
    "\n",
    "### Implementation\n",
    "\n",
    "What are the necessary changes to the previous program?\n",
    "\n",
    "1. The domain is not the unit square and it needs much higher resolution: `mesh = RectangleMesh(Point(-2,-2), Point(2,2), 30, 30)`.\n",
    "\n",
    "2. The boundary condition is zero everywhere: `DirichletBC(V, Constant(0), boundary)`.\n",
    "\n",
    "3. The initial condition is different: `I = Expression('exp(...)')`.\n",
    "\n",
    "4. The time step should be sufficiently small: `dt = 0.01` or `dt = 0.05`.\n",
    "\n",
    "5. The right-hand side function `f` is zero: `f = Constant(0)` (just `0`\n",
    "   will given an error as functions in FEniCS must be `Expression`, `Function`\n",
    "   (over a mesh) or `Constant`).\n",
    "\n",
    "6. The end time for the simulation must be longer: `T = 0.8`.\n",
    "\n",
    "7. The initial condition and the solution inside the time loop should be\n",
    "   stored to file in VTK format for visualization: `vtkfile << (u, t)`.\n",
    "\n",
    "8. We can add a `plot(u)` command inside the time loop as well.\n",
    "\n",
    "The complete program appears below."
   ]
  },
  {
   "cell_type": "code",
   "execution_count": 7,
   "metadata": {
    "collapsed": false
   },
   "outputs": [],
   "source": [
    "from fenics import *\n",
    "import time\n",
    "\n",
    "# Create mesh and define function space\n",
    "nx = ny = 30\n",
    "mesh = RectangleMesh(Point(-2,-2), Point(2,2), nx, ny)\n",
    "V = FunctionSpace(mesh, 'P', 1)\n",
    "\n",
    "# Define boundary conditions\n",
    "def boundary(x, on_boundary):\n",
    "    return on_boundary\n",
    "\n",
    "bc = DirichletBC(V, Constant(0), boundary)\n",
    "\n",
    "# Initial condition\n",
    "I = Expression('exp(-a*pow(x[0],2)-a*pow(x[1],2))', a=5)\n",
    "u_1 = interpolate(I, V)\n",
    "u_1.rename('u', 'initial condition')\n",
    "vtkfile = File('diffusion.pvd')\n",
    "vtkfile << (u_1, 0.0)\n",
    "#project(u0, V) will not result in exact solution at the nodes!\n",
    "\n",
    "dt = 0.01    # time step\n",
    "\n",
    "# Define variational problem\n",
    "u = TrialFunction(V)\n",
    "v = TestFunction(V)\n",
    "f = Constant(0)\n",
    "\n",
    "F = u*v*dx + dt*dot(grad(u), grad(v))*dx - (u_1 + dt*f)*v*dx\n",
    "a, L = lhs(F), rhs(F)\n",
    "\n",
    "# Compute solution\n",
    "u = Function(V)             # the unknown at a new time level\n",
    "u.rename('u', 'solution')   # name and label for u\n",
    "T = 0.5                     # total simulation time\n",
    "t = dt\n",
    "while t <= T:\n",
    "    print('time =', t)\n",
    "    solve(a == L, u, bc)\n",
    "    vtkfile << (u, float(t))\n",
    "    plot(u)\n",
    "    time.sleep(0.3)\n",
    "\n",
    "    t += dt\n",
    "    u_1.assign(u)"
   ]
  },
  {
   "cell_type": "markdown",
   "metadata": {},
   "source": [
    "PLEASE have in-browser visualization!"
   ]
  }
 ],
 "metadata": {},
 "nbformat": 4,
 "nbformat_minor": 0
}
