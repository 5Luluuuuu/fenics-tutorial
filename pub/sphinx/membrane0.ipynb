{
 "cells": [
  {
   "cell_type": "markdown",
   "metadata": {},
   "source": [
    "<!-- Stand-alone notebook? -->\n",
    "\n",
    "\n",
    "# Deflection of a membrane\n",
    "<div id=\"ftut:poisson:membrane\"></div>\n",
    "\n",
    "The previous problem and code targeted a simple test problem where we\n",
    "can easily verify the implementation. Now we turn the attention to\n",
    "a more physically relevant problem, in a non-trivial geometry, and\n",
    "that results in solutions of somewhat more exciting shape.\n",
    "\n",
    "We want to compute the deflection $D(x,y)$ of a two-dimensional,\n",
    "circular membrane, subject to a load $p$ over the membrane. The\n",
    "appropriate PDE model is"
   ]
  },
  {
   "cell_type": "markdown",
   "metadata": {},
   "source": [
    "<!-- Equation labels as ordinary links -->\n",
    "<div id=\"_auto1\"></div>\n",
    "\n",
    "$$\n",
    "\\begin{equation}\n",
    "-T\\nabla^2 D = p(x,y)\\quad\\hbox{in }\\Omega = \\{ (x,y)\\,|\\, x^2+y^2\\leq R\\}{\\thinspace .}\n",
    "\\label{_auto1} \\tag{1}\n",
    "\\end{equation}\n",
    "$$"
   ]
  },
  {
   "cell_type": "markdown",
   "metadata": {},
   "source": [
    "Here, $T$ is the tension in the membrane (constant), and $p$ is the external\n",
    "pressure load.\n",
    "The boundary of the membrane has no\n",
    "deflection, implying $D=0$ as boundary condition.\n",
    "A localized load can be modeled as a Gaussian function:"
   ]
  },
  {
   "cell_type": "markdown",
   "metadata": {},
   "source": [
    "<!-- Equation labels as ordinary links -->\n",
    "<div id=\"_auto2\"></div>\n",
    "\n",
    "$$\n",
    "\\begin{equation}\n",
    "p(x,y) = {A\\over 2\\pi\\sigma}\\exp{\\left(\n",
    "- {1\\over2}\\left( {x-x_0\\over\\sigma}\\right)^2\n",
    "- {1\\over2}\\left( {y-y_0\\over\\sigma}\\right)^2\n",
    "\\right)}\\, .\n",
    "\\label{_auto2} \\tag{2}\n",
    "\\end{equation}\n",
    "$$"
   ]
  },
  {
   "cell_type": "markdown",
   "metadata": {},
   "source": [
    "The parameter $A$ is the amplitude of the pressure,\n",
    "$(x_0,y_0)$ the localization of the maximum point of the load,\n",
    "and $\\sigma$ the \"width\" of $p$.\n",
    "\n",
    "## Scaling\n",
    "\n",
    "The localization of the pressure, $(x_0,y_0)$, is for simplicity\n",
    "set to $(0, R_0)$.\n",
    "There are many physical parameters in this problem, and we can benefit\n",
    "from grouping them by means of scaling. Let us introduce dimensionless\n",
    "coordinates $\\bar x = x/R$, $\\bar y = y/R$, and a dimensionless\n",
    "deflection $w=D/D_c$, where $D_c$ is a characteristic size of the\n",
    "deflection. Introducing $\\bar R_0=R_0/R$, we get"
   ]
  },
  {
   "cell_type": "markdown",
   "metadata": {},
   "source": [
    "$$\n",
    "\\frac{\\partial^2 w}{\\partial\\bar x^2} +\n",
    "\\frac{\\partial^2 w}{\\partial\\bar y^2}= \\alpha\n",
    "\\exp{\\left(\n",
    "- \\beta^2(\\bar x^2\n",
    "+ (\\bar y-\\bar R_0)^2)\\right)}\\hbox{ for } \\bar x^2 + \\bar y^2 < 1,\n",
    "$$"
   ]
  },
  {
   "cell_type": "markdown",
   "metadata": {},
   "source": [
    "where"
   ]
  },
  {
   "cell_type": "markdown",
   "metadata": {},
   "source": [
    "$$\n",
    "\\alpha = \\frac{R^2A}{2\\pi T D_c\\sigma},\\quad\\beta = \\frac{R}{\\sqrt{2}\\sigma}{\\thinspace .}\n",
    "$$"
   ]
  },
  {
   "cell_type": "markdown",
   "metadata": {},
   "source": [
    "With an appropriate scaling, $\\bar w$ and its derivatives are of size\n",
    "unity, so the left-hand side of the scaled PDE is about unity in size,\n",
    "while the right-hand side has $\\alpha$ as its characteristic size.\n",
    "This suggest choosing $\\alpha$ to be unity, or around unit.  We shall\n",
    "in particular choose $\\alpha=4$. With this value, the solution is\n",
    "$w(\\bar x,\\bar y) = 1-\\bar x^2 - \\bar y^2$.  (One can also find the\n",
    "analytical solution in scaled coordinates and show that the maximum\n",
    "deflection $D(0,0)$ is $D_c$ if we choose $\\alpha=4$ to determine\n",
    "$D_c$.)  With $D_c=AR^2/(8\\pi\\sigma T)$ and dropping the bars we get\n",
    "the scaled problem"
   ]
  },
  {
   "cell_type": "markdown",
   "metadata": {},
   "source": [
    "<!-- Equation labels as ordinary links -->\n",
    "<div id=\"ftut:poisson1:membrane:scaled:eq\"></div>\n",
    "\n",
    "$$\n",
    "\\begin{equation}\n",
    "\\nabla^2w = 4\\exp{\\left(\n",
    "- \\beta^2(x^2\n",
    "+ (y-R_0)^2)\\right)},\n",
    "\\label{ftut:poisson1:membrane:scaled:eq} \\tag{3}\n",
    "\\end{equation}\n",
    "$$"
   ]
  },
  {
   "cell_type": "markdown",
   "metadata": {},
   "source": [
    "to be solved over the unit circle with $w=0$ on the boundary.  Now\n",
    "there are only two parameters to vary: the dimensionless extent of the\n",
    "pressure, $\\beta$, and the localization of the pressure peak, $R_0\\in\n",
    "[0,1]$.  As $\\beta\\rightarrow 0$, we have a special case with solution\n",
    "$w=1-x^2-y^2$.\n",
    "\n",
    "Given a computed $w$, the physical deflection is given by"
   ]
  },
  {
   "cell_type": "markdown",
   "metadata": {},
   "source": [
    "$$\n",
    "D = \\frac{AR^2}{8\\pi\\sigma T}w{\\thinspace .}\n",
    "$$"
   ]
  },
  {
   "cell_type": "markdown",
   "metadata": {},
   "source": [
    "Just a few modifications are necessary in our previous program to solve\n",
    "this new problem.\n",
    "\n",
    "## Defining the mesh\n",
    "\n",
    "A mesh over the unit circle can be created by the `mshr` tool in\n",
    "FEniCS:"
   ]
  },
  {
   "cell_type": "code",
   "execution_count": 1,
   "metadata": {
    "collapsed": true
   },
   "outputs": [],
   "source": [
    "from fenics import *"
   ]
  },
  {
   "cell_type": "code",
   "execution_count": 2,
   "metadata": {
    "collapsed": false
   },
   "outputs": [],
   "source": [
    "from mshr import *\n",
    "domain = Circle(Point(0.0, 0.0), 1.0)\n",
    "n = 20\n",
    "mesh = generate_mesh(domain, n)"
   ]
  },
  {
   "cell_type": "markdown",
   "metadata": {},
   "source": [
    "The `Circle` shape from `mshr` takes the center and radius of the circle\n",
    "as the two first arguments, while `n` is the resolution, here the\n",
    "suggested number of cells per radius.\n",
    "\n",
    "## Defining the load\n",
    "\n",
    "\n",
    "The right-hand side pressure function\n",
    "is represented by an `Expression` object. There\n",
    "are two physical parameters in the formula for $f$ that enter the\n",
    "expression string and these parameters must have their values set\n",
    "by keyword arguments:"
   ]
  },
  {
   "cell_type": "code",
   "execution_count": 3,
   "metadata": {
    "collapsed": false
   },
   "outputs": [],
   "source": [
    "beta = 8\n",
    "R0 = 0.6\n",
    "p = Expression(\n",
    "    '4*exp(-pow(beta,2)*(pow(x[0], 2) + pow(x[1]-R0, 2)))',\n",
    "    beta=beta, R0=R0)"
   ]
  },
  {
   "cell_type": "markdown",
   "metadata": {},
   "source": [
    "The coordinates in `Expression` objects *must* be a vector\n",
    "with indices 0, 1, and 2, and with the name `x`. Otherwise\n",
    "we are free to introduce names of parameters as long as these are\n",
    "given default values by keyword arguments. All the parameters\n",
    "initialized by keyword arguments can at any time have their\n",
    "values modified. For example, we may set"
   ]
  },
  {
   "cell_type": "markdown",
   "metadata": {},
   "source": [
    "```Python\n",
    "        p.beta = 12\n",
    "        p.R0 = 0.3\n",
    "```"
   ]
  },
  {
   "cell_type": "markdown",
   "metadata": {},
   "source": [
    "We also need to define a function space and boundary conditions:"
   ]
  },
  {
   "cell_type": "code",
   "execution_count": 4,
   "metadata": {
    "collapsed": true
   },
   "outputs": [],
   "source": [
    "V = FunctionSpace(mesh, 'P', 2)\n",
    "\n",
    "def u0_boundary(x, on_boundary):\n",
    "    return on_boundary\n",
    "\n",
    "u0 = Constant(0)\n",
    "bc = DirichletBC(V, u0, u0_boundary)"
   ]
  },
  {
   "cell_type": "markdown",
   "metadata": {},
   "source": [
    "## Variational form\n",
    "\n",
    "We may introduce `w` instead of `u` as primary unknown and `p` instead\n",
    "of `f` as right-hand side function:"
   ]
  },
  {
   "cell_type": "code",
   "execution_count": 5,
   "metadata": {
    "collapsed": false
   },
   "outputs": [],
   "source": [
    "w = TrialFunction(V)\n",
    "v = TestFunction(V)\n",
    "a = dot(grad(w), grad(v))*dx\n",
    "L = p*v*dx\n",
    "\n",
    "w = Function(V)\n",
    "solve(a == L, w, bc)"
   ]
  },
  {
   "cell_type": "markdown",
   "metadata": {},
   "source": [
    "## Curve plots through the domain\n",
    "\n",
    "<!-- Nice with some matplotlib plots in notebooks...and very useful for -->\n",
    "<!-- scientific investigations. -->\n",
    "\n",
    "The best way to compare the load and the deflection is to make a curve plot\n",
    "along the line $y=0$. This is just a matter of defining a set of points\n",
    "along the line and evaluating the finite element functions `w` and `p`\n",
    "at these points:"
   ]
  },
  {
   "cell_type": "code",
   "execution_count": 6,
   "metadata": {
    "collapsed": false
   },
   "outputs": [],
   "source": [
    "%matplotlib inline\n",
    "\n",
    "# Curve plot along x=0 comparing p and w\n",
    "import numpy as np\n",
    "import matplotlib.pyplot as plt\n",
    "tol = 1E-8  # Avoid hitting points outside domain\n",
    "y = np.linspace(-1+tol, 1-tol, 101)\n",
    "points = [(0, y_) for y_ in y]  # 2D points\n",
    "w_line = np.array([w(point) for point in points])\n",
    "p_line = np.array([p(point) for point in points])\n",
    "plt.plot(y, 100*w_line, 'r-', y, p_line, 'b--') # magnify w\n",
    "plt.legend(['100 x deflection', 'load'], loc='upper left')\n",
    "plt.xlabel('y');  plt.ylabel('$p$ and $100u$')\n",
    "plt.savefig('tmp1.pdf');  plt.savefig('tmp1.png')"
   ]
  },
  {
   "cell_type": "markdown",
   "metadata": {},
   "source": [
    "[hpl 1: Clash between `plot` and Matplotlib. Must click quit on the built-in\n",
    "plots before Matplotlib will plot. Maybe take out `plot` from notebook?]"
   ]
  }
 ],
 "metadata": {},
 "nbformat": 4,
 "nbformat_minor": 0
}
