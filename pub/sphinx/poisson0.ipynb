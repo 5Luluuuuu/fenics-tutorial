{
 "cells": [
  {
   "cell_type": "markdown",
   "metadata": {},
   "source": [
    "<!-- Stand-alone notebook? -->\n",
    "<!-- (Need preprocess #if tests here since they are to be executed -->\n",
    "<!-- when preprocess is run to get the right #include statements. -->\n",
    "<!-- Thereafter, mako is executed and we can also have %if syntax.) -->\n",
    "\n",
    "\n",
    "<!-- Need some intro about the variational formulation -->\n",
    "\n",
    "# The Poisson equation\n",
    "\n",
    "## Mathematical problem formulation\n",
    "\n",
    "We want to solve"
   ]
  },
  {
   "cell_type": "markdown",
   "metadata": {},
   "source": [
    "<!-- Equation labels as ordinary links -->\n",
    "<div id=\"ftut:poisson1\"></div>\n",
    "\n",
    "$$\n",
    "\\begin{equation}\n",
    "- \\nabla^2 u(\\boldsymbol{x}) = f(\\boldsymbol{x}),\\quad \\boldsymbol{x}\\mbox{ in } \\Omega,\n",
    "\\label{ftut:poisson1} \\tag{1}\n",
    "\\end{equation}\n",
    "$$"
   ]
  },
  {
   "cell_type": "markdown",
   "metadata": {},
   "source": [
    "<!-- Equation labels as ordinary links -->\n",
    "<div id=\"ftut:poisson1:bc\"></div>\n",
    "\n",
    "$$\n",
    "\\begin{equation}  \n",
    "u(\\boldsymbol{x}) = u_0(\\boldsymbol{x}),\\quad \\boldsymbol{x}\\mbox{ on } \\partial \\Omega{\\thinspace .} \\label{ftut:poisson1:bc} \\tag{2}\n",
    "\\end{equation}\n",
    "$$"
   ]
  },
  {
   "cell_type": "markdown",
   "metadata": {},
   "source": [
    "where\n",
    "$u = u(\\boldsymbol{x})$ is the unknown function, $f = f(\\boldsymbol{x})$ is a\n",
    "prescribed function, $\\nabla^2$ is the Laplace operator (also\n",
    "often written as $\\Delta$), $\\Omega$ is the spatial domain, and\n",
    "$\\partial\\Omega$ is the boundary of $\\Omega$. A stationary PDE like\n",
    "this, together with a complete set of boundary conditions, constitute\n",
    "a *boundary-value problem*, which must be precisely stated before\n",
    "it makes sense to start solving it with FEniCS.\n",
    "\n",
    "In two space dimensions with coordinates $x$ and $y$, we can write out\n",
    "the Poisson equation as"
   ]
  },
  {
   "cell_type": "markdown",
   "metadata": {},
   "source": [
    "<!-- Equation labels as ordinary links -->\n",
    "<div id=\"_auto1\"></div>\n",
    "\n",
    "$$\n",
    "\\begin{equation}\n",
    "- {\\partial^2 u\\over\\partial x^2} -\n",
    "{\\partial^2 u\\over\\partial y^2} = f(x,y){\\thinspace .}\n",
    "\\label{_auto1} \\tag{3}\n",
    "\\end{equation}\n",
    "$$"
   ]
  },
  {
   "cell_type": "markdown",
   "metadata": {},
   "source": [
    "The unknown $u$ is now a function of two variables, $u = u(x,y)$, defined\n",
    "over a two-dimensional domain $\\Omega$.\n",
    "\n",
    "The variational formulation of this problem goes as follows:\n",
    "Find $u \\in V$ such that"
   ]
  },
  {
   "cell_type": "markdown",
   "metadata": {},
   "source": [
    "<!-- Equation labels as ordinary links -->\n",
    "<div id=\"ftut:poisson1:var\"></div>\n",
    "\n",
    "$$\n",
    "\\begin{equation} \\label{ftut:poisson1:var} \\tag{4}\n",
    "  \\int_{\\Omega} \\nabla u \\cdot \\nabla v {\\, \\mathrm{d}x} =\n",
    "  \\int_{\\Omega} fv {\\, \\mathrm{d}x}\n",
    "  \\quad \\forall v \\in \\hat{V}\n",
    "\\end{equation}\n",
    "$$"
   ]
  },
  {
   "cell_type": "markdown",
   "metadata": {},
   "source": [
    "where $V$ and $\\hat V$ are function spaces for the trial function $u$ and\n",
    "the test functions $v$, respectively. We shall now take these spaces to\n",
    "be finite dimensional, described by a mesh containing finite elements.\n",
    "\n",
    "It is common to write the variational formulation on the form"
   ]
  },
  {
   "cell_type": "markdown",
   "metadata": {},
   "source": [
    "<!-- Equation labels as ordinary links -->\n",
    "<div id=\"_auto2\"></div>\n",
    "\n",
    "$$\n",
    "\\begin{equation}\n",
    "a(u, v) = L(v){\\thinspace .}\n",
    "\\label{_auto2} \\tag{5}\n",
    "\\end{equation}\n",
    "$$"
   ]
  },
  {
   "cell_type": "markdown",
   "metadata": {},
   "source": [
    "For the Poisson equation, we have:"
   ]
  },
  {
   "cell_type": "markdown",
   "metadata": {},
   "source": [
    "<!-- Equation labels as ordinary links -->\n",
    "<div id=\"ftut:poisson1:vard:a\"></div>\n",
    "\n",
    "$$\n",
    "\\begin{equation}\n",
    "a(u, v) = \\int_{\\Omega} \\nabla u \\cdot \\nabla v {\\, \\mathrm{d}x},\n",
    "\\label{ftut:poisson1:vard:a} \\tag{6}\n",
    "\\end{equation}\n",
    "$$"
   ]
  },
  {
   "cell_type": "markdown",
   "metadata": {},
   "source": [
    "<!-- Equation labels as ordinary links -->\n",
    "<div id=\"ftut:poisson1:vard:L\"></div>\n",
    "\n",
    "$$\n",
    "\\begin{equation}  \n",
    "L(v) = \\int_{\\Omega} fv {\\, \\mathrm{d}x}{\\thinspace .}  \\label{ftut:poisson1:vard:L} \\tag{7}\n",
    "\\end{equation}\n",
    "$$"
   ]
  },
  {
   "cell_type": "markdown",
   "metadata": {},
   "source": [
    "FEniCS provides all the necessary mathematical notation needed to\n",
    "express the variational problem $a(u, v) = L(v)$. To solve a linear\n",
    "PDE in FEniCS, such as the Poisson equation, a user thus needs to\n",
    "perform only two steps:\n",
    "\n",
    "  * Express the PDE as a (discrete) variational problem: find $u\\in V$\n",
    "    such that $a(u,v) = L(v)$ for all $v\\in \\hat{V}$.\n",
    "\n",
    "  * Choose the finite element spaces $V$ and $\\hat V$ by specifying\n",
    "    the domain (the mesh) and the type of function space (polynomial\n",
    "    degree and type).\n",
    "\n",
    "## Choosing a test problem\n",
    "<div id=\"ftut:poisson1:testproblem\"></div>\n",
    "\n",
    "The Poisson equation [(1)](#ftut:poisson1) has so far featured a general\n",
    "domain $\\Omega$ and general functions $u_0$ and $f$. For our first\n",
    "implementation, we must decide on specific choices of $\\Omega$, $u_0$,\n",
    "and $f$.  It will be wise to construct a specific problem where we can\n",
    "easily check that the computed solution is correct. Solutions that are\n",
    "lower-order polynomials are primary candidates. Standard finite\n",
    "element function spaces of degree $r$ will exactly reproduce\n",
    "polynomials of degree $r$. And piecewise linear elements ($r=1$) are\n",
    "able to exactly reproduce a quadratic polynomial on a uniformly\n",
    "partitioned mesh. This important result can be used to verify our\n",
    "implementation. We just manufacture some quadratic function in 2D as\n",
    "the exact solution, say"
   ]
  },
  {
   "cell_type": "markdown",
   "metadata": {},
   "source": [
    "<!-- Equation labels as ordinary links -->\n",
    "<div id=\"ftut:poisson1:impl:uex\"></div>\n",
    "\n",
    "$$\n",
    "\\begin{equation}\n",
    "\\label{ftut:poisson1:impl:uex} \\tag{8}\n",
    "{u_{\\small\\mbox{e}}}(x,y) = 1 +x^2 + 2y^2{\\thinspace .}\n",
    "\\end{equation}\n",
    "$$"
   ]
  },
  {
   "cell_type": "markdown",
   "metadata": {},
   "source": [
    "By inserting [(8)](#ftut:poisson1:impl:uex) into the Poisson equation\n",
    "[(1)](#ftut:poisson1), we find that ${u_{\\small\\mbox{e}}}(x,y)$ is a solution if"
   ]
  },
  {
   "cell_type": "markdown",
   "metadata": {},
   "source": [
    "$$\n",
    "f(x,y) = -6,\\quad u_0(x,y)={u_{\\small\\mbox{e}}}(x,y)=1 + x^2 + 2y^2,\n",
    "$$"
   ]
  },
  {
   "cell_type": "markdown",
   "metadata": {},
   "source": [
    "regardless of the shape of the domain as long as ${u_{\\small\\mbox{e}}}$ is prescribed along\n",
    "the boundary. We choose here, for simplicity,\n",
    "the domain to be the unit square,"
   ]
  },
  {
   "cell_type": "markdown",
   "metadata": {},
   "source": [
    "$$\n",
    "\\Omega = [0,1]\\times [0,1] {\\thinspace .}\n",
    "$$"
   ]
  },
  {
   "cell_type": "markdown",
   "metadata": {},
   "source": [
    "This simple but very powerful method for constructing test problems\n",
    "is called the *method of manufactured solutions*: pick a simple\n",
    "expression for the exact solution, plug it into the equation to obtain\n",
    "the right-hand side (source term $f$), then solve the equation with\n",
    "this right-hand side and try to reproduce the exact solution.\n",
    "\n",
    "**Tip: Try to verify your code with exact numerical solutions!**\n",
    "\n",
    "A common approach to testing the implementation of a numerical method\n",
    "is to compare the numerical\n",
    "solution with an exact analytical solution of the test problem and\n",
    "conclude that the program works if the error is \"small enough\".\n",
    "Unfortunately, it is impossible to tell if an error of size $10^{-5}$ on a\n",
    "$20\\times 20$ mesh of linear elements is the expected (in)accuracy of the\n",
    "numerical approximation or if the error also contains the effect of a\n",
    "bug in the code. All we usually know about the numerical error is its\n",
    "*asymptotic properties*, for instance that it is proportional to $h^2$\n",
    "if $h$ is the size of a cell in the mesh. Then we can compare the\n",
    "error on meshes with different $h$ values to see if the asymptotic\n",
    "behavior is correct. This is a very powerful verification\n",
    "technique.\n",
    "However, if we have a test problem for which\n",
    "we know that there should be no approximation errors, we know that\n",
    "the analytical solution of the PDE problem should be reproduced to\n",
    "machine precision by the program. That is why we emphasize this kind\n",
    "of test problems throughout this tutorial. Typically, elements of\n",
    "degree $r$ can reproduce polynomials of degree $r$ exactly, so this\n",
    "is the starting point for constructing a solution without numerical\n",
    "approximation errors.\n",
    "\n",
    "\n",
    "\n",
    "## FEniCS implementation\n",
    "<div id=\"ftut:poisson1:impl\"></div>\n",
    "<div id=\"ftut:poisson1:impl:code\"></div>\n",
    "\n",
    "A FEniCS program for solving our test problem for the Poisson equation\n",
    "in 2D with the given choices of $u_0$, $f$, and $\\Omega$ may look as\n",
    "follows:"
   ]
  },
  {
   "cell_type": "code",
   "execution_count": 1,
   "metadata": {
    "collapsed": false
   },
   "outputs": [],
   "source": [
    "from fenics import *\n",
    "\n",
    "# Create mesh and define function space\n",
    "mesh = UnitSquareMesh(8, 8)\n",
    "V = FunctionSpace(mesh, 'P', 1)\n",
    "\n",
    "# Define boundary conditions\n",
    "u0 = Expression('1 + x[0]*x[0] + 2*x[1]*x[1]', degree=1)\n",
    "\n",
    "def u0_boundary(x, on_boundary):\n",
    "    return on_boundary\n",
    "\n",
    "bc = DirichletBC(V, u0, u0_boundary)\n",
    "\n",
    "# Define variational problem\n",
    "u = TrialFunction(V)\n",
    "v = TestFunction(V)\n",
    "f = Constant(-6.0)\n",
    "a = dot(grad(u), grad(v))*dx\n",
    "L = f*v*dx\n",
    "\n",
    "# Compute solution\n",
    "u = Function(V)\n",
    "solve(a == L, u, bc)\n",
    "\n",
    "# Plot solution on the screen\n",
    "u.rename('u', 'solution')\n",
    "plot(u)\n",
    "plot(mesh)\n",
    "\n",
    "# Dump solution to file in VTK format\n",
    "vtkfile = File('poisson.pvd')\n",
    "vtkfile << u\n",
    "\n",
    "# Compute and print error\n",
    "u_e = interpolate(u0, V)\n",
    "error = max(abs(u_e.vector().array() - u.vector().array()))\n",
    "import numpy as np\n",
    "error = np.abs(u_e.vector().array() - u.vector().array()).max()\n",
    "print('error =', error)\n",
    "\n",
    "# Hold plot\n",
    "interactive()"
   ]
  },
  {
   "cell_type": "markdown",
   "metadata": {},
   "source": [
    "## Dissection of the program\n",
    "<div id=\"ftut:poisson1:impl:dissect\"></div>\n",
    "\n",
    "\n",
    "The listed FEniCS program defines a finite element mesh, a finite\n",
    "element function space $V$ on this mesh, boundary conditions for $u$\n",
    "(the function $u_0$), and the bilinear and linear forms $a(u,v)$ and\n",
    "$L(v)$.  Thereafter, the unknown trial function $u$ is computed. Then\n",
    "we can compare the numerical and exact solution as well as visualize\n",
    "the computed solution $u$.\n",
    "\n",
    "\n",
    "### The important first line\n",
    "\n",
    "The first line in the program,"
   ]
  },
  {
   "cell_type": "markdown",
   "metadata": {},
   "source": [
    "```Python\n",
    "        from fenics import *\n",
    "```"
   ]
  },
  {
   "cell_type": "markdown",
   "metadata": {},
   "source": [
    "imports the key classes `UnitSquareMesh`, `FunctionSpace`, `Function`,\n",
    "and so forth, from the FEniCS library.  All FEniCS programs for\n",
    "solving PDEs by the finite element method normally start with this\n",
    "line.\n",
    "\n",
    "\n",
    "\n",
    "### Generating simple meshes\n",
    "\n",
    "The statement"
   ]
  },
  {
   "cell_type": "markdown",
   "metadata": {},
   "source": [
    "```Python\n",
    "        mesh = UnitSquareMesh(8, 8)\n",
    "```"
   ]
  },
  {
   "cell_type": "markdown",
   "metadata": {},
   "source": [
    "defines a uniform finite element mesh over the unit square\n",
    "$[0,1]\\times [0,1]$. The mesh consists of *cells*, which in 2D are triangles\n",
    "with straight sides. The parameters 8 and 8 specify that the square\n",
    "should be divided into $8\\times 8$ rectangles, each divided into a pair of\n",
    "triangles. The total number of triangles (cells) thus becomes\n",
    "128. The total number of vertices in the mesh is $9\\cdot 9=81$.\n",
    "In later chapters, you will learn how to generate more complex meshes.\n",
    "\n",
    "[hpl 1: Note that plot was made by the old partitioning $6\\times 4$. Probably\n",
    "no issue.]\n",
    "\n",
    "\n",
    "\n",
    "### Defining the finite element function space\n",
    "\n",
    "Having a mesh, we can define a finite element function space `V` over\n",
    "this mesh:"
   ]
  },
  {
   "cell_type": "markdown",
   "metadata": {},
   "source": [
    "```Python\n",
    "        V = FunctionSpace(mesh, 'P', 1)\n",
    "```"
   ]
  },
  {
   "cell_type": "markdown",
   "metadata": {},
   "source": [
    "The second argument `'P`' specifies the type of element, while the third\n",
    "argument is the degree of the basis functions of the element. The type\n",
    "of element is here \"P\", implying the standard Lagrange family of\n",
    "elements. You may also use `'Lagrange'` to specify this type of\n",
    "element. FEniCS supports all simplex element families and the notation\n",
    "defined in the [Periodic Table of the Finite Elements](http://femtable.org) [[ArnoldLogg2014]](#ArnoldLogg2014).\n",
    "\n",
    "\n",
    "The third argument `1` specifies the degree of the finite element.  In\n",
    "this case, the standard $\\mathsf{P}_1$ linear Lagrange element, which\n",
    "is a triangle with nodes at the three vertices. Some finite element\n",
    "practitioners refer to this element as the \"linear triangle\". The\n",
    "computed solution $u$ will be continuous and linearly varying in $x$\n",
    "and $y$ over each cell in the mesh. Higher-degree polynomial\n",
    "approximations over each cell are trivially obtained by increasing the\n",
    "third parameter to `FunctionSpace`, which will then generate function\n",
    "spaces of type $\\mathsf{P}_2$, $\\mathsf{P}_3$, and so forth.\n",
    "Changing the second parameter to `'DP'` creates a function\n",
    "space for discontinuous Galerkin methods.\n",
    "\n",
    "\n",
    "### Defining the trial and test functions\n",
    "\n",
    "In mathematics, we distinguish between the trial and test spaces $V$\n",
    "and $\\hat{V}$. The only difference in the present problem is the\n",
    "boundary conditions. In FEniCS we do not specify the boundary\n",
    "conditions as part of the function space, so it is sufficient to work\n",
    "with one common space `V` for the and trial and test functions in the\n",
    "program:"
   ]
  },
  {
   "cell_type": "markdown",
   "metadata": {},
   "source": [
    "```Python\n",
    "        u = TrialFunction(V)\n",
    "        v = TestFunction(V)\n",
    "```"
   ]
  },
  {
   "cell_type": "markdown",
   "metadata": {},
   "source": [
    "### Defining the boundary and the boundary conditions\n",
    "\n",
    "The next step is to specify the boundary condition: $u=u_0$ on\n",
    "$\\partial\\Omega$. This is done by"
   ]
  },
  {
   "cell_type": "markdown",
   "metadata": {},
   "source": [
    "```Python\n",
    "        bc = DirichletBC(V, u0, u0_boundary)\n",
    "```"
   ]
  },
  {
   "cell_type": "markdown",
   "metadata": {},
   "source": [
    "where `u0` is an expression defining the solution values on the\n",
    "boundary, and `u0_boundary` is a function (or object) defining\n",
    "which points belong to the boundary.\n",
    "\n",
    "Boundary conditions of the type $u=u_0$ are known as *Dirichlet\n",
    "conditions*. For the present finite element method for the Poisson\n",
    "problem, they are also called *essential boundary conditions*, as they\n",
    "need to be imposed explicitly as part of the trial space (in contrast\n",
    "to being defined implicitly as part of the variational formulation).\n",
    "Naturally, the FEniCS class used to define Dirichlet boundary\n",
    "conditions is named `DirichletBC`.\n",
    "\n",
    "\n",
    "The variable `u0` refers to an `Expression` object, which is used to\n",
    "represent a mathematical function. The typical construction is"
   ]
  },
  {
   "cell_type": "markdown",
   "metadata": {},
   "source": [
    "```Python\n",
    "        u0 = Expression(formula)\n",
    "```"
   ]
  },
  {
   "cell_type": "markdown",
   "metadata": {},
   "source": [
    "where `formula` is a string containing the mathematical expression.\n",
    "This formula is written with C++ syntax. The expression is\n",
    "automatically turned into an efficient, compiled C++ function.\n",
    "The expression may depend on the variables `x[0]` and `x[1]`\n",
    "corresponding to the $x$ and $y$ coordinates. In 3D, the expression\n",
    "may also depend on the variable `x[2]` corresponding to the $z$\n",
    "coordinate. With our choice of $u_0(x,y)=1 + x^2 + 2y^2$, the formula\n",
    "string can be written as `1 + x[0]*x[0] + 2*x[1]*x[1]`:"
   ]
  },
  {
   "cell_type": "markdown",
   "metadata": {},
   "source": [
    "```Python\n",
    "        u0 = Expression('1 + x[0]*x[0] + 2*x[1]*x[1]')\n",
    "```"
   ]
  },
  {
   "cell_type": "markdown",
   "metadata": {},
   "source": [
    "[hpl 2: In the code there is a degree parameter that is not included above. Why?]\n",
    "\n",
    "\n",
    "**String expressions must have valid C++ syntax!**\n",
    "\n",
    "The string argument to an `Expression` object must obey C++ syntax.\n",
    "Most Python syntax for mathematical expressions are also valid C++ syntax,\n",
    "but power expressions make an exception: `p**a` must be written as\n",
    "`pow(p,a)` in C++ (this is also an alternative Python syntax).\n",
    "The following mathematical functions can be used directly\n",
    "in C++\n",
    "expressions when defining `Expression` objects:\n",
    "`cos`, `sin`, `tan`, `acos`, `asin`,\n",
    "`atan`, `atan2`, `cosh`, `sinh`, `tanh`, `exp`,\n",
    "`frexp`, `ldexp`, `log`, `log10`, `modf`,\n",
    "`pow`, `sqrt`, `ceil`, `fabs`, `floor`, and `fmod`.\n",
    "Moreover, the number $\\pi$ is available as the symbol `pi`.\n",
    "All the listed functions are taken from the `cmath` C++ header file, and\n",
    "one may hence\n",
    "consult the documentation of `cmath` for more information on the\n",
    "various functions.\n",
    "\n",
    "If/else tests are possible using the C syntax for inline branching. The\n",
    "function"
   ]
  },
  {
   "cell_type": "markdown",
   "metadata": {},
   "source": [
    "$$\n",
    "f(x,y) = \\left\\lbrace\\begin{array}{ll} x^2, & x, y\\geq 0\\\\ \n",
    "2, & \\hbox{otherwise}\\end{array}\\right.\n",
    "$$"
   ]
  },
  {
   "cell_type": "markdown",
   "metadata": {},
   "source": [
    "is implemented as"
   ]
  },
  {
   "cell_type": "markdown",
   "metadata": {},
   "source": [
    "```Python\n",
    "        f = Expression('x[0] >= 0 && x[1] >= 0? pow(x[0], 2) : 2')\n",
    "```"
   ]
  },
  {
   "cell_type": "markdown",
   "metadata": {},
   "source": [
    "Parameters in expression strings are allowed, but\n",
    "must be initialized via keyword\n",
    "arguments when creating the `Expression` object. For example, the\n",
    "function $f(x)=e^{-\\kappa\\pi^2t}\\sin(\\pi k x)$ can be coded as"
   ]
  },
  {
   "cell_type": "markdown",
   "metadata": {},
   "source": [
    "```Python\n",
    "        f = Expression('exp(-kappa*pow(pi,2)*t)*sin(pi*k*x[0])',\n",
    "                       kappa=1.0, t=0, k=4)\n",
    "```"
   ]
  },
  {
   "cell_type": "markdown",
   "metadata": {},
   "source": [
    "At any time, parameters can be updated:"
   ]
  },
  {
   "cell_type": "markdown",
   "metadata": {},
   "source": [
    "```Python\n",
    "        f.t += dt\n",
    "        f.k = 10\n",
    "```"
   ]
  },
  {
   "cell_type": "markdown",
   "metadata": {},
   "source": [
    "The function `u0_boundary` specifies which points that belong to the\n",
    "part of the boundary where the boundary condition should be applied:"
   ]
  },
  {
   "cell_type": "markdown",
   "metadata": {},
   "source": [
    "```Python\n",
    "        def u0_boundary(x, on_boundary):\n",
    "            return on_boundary\n",
    "```"
   ]
  },
  {
   "cell_type": "markdown",
   "metadata": {},
   "source": [
    "A function like `u0_boundary` for marking the boundary must return a\n",
    "boolean value: `True` if the given point `x` lies on the Dirichlet\n",
    "boundary and `False` otherwise.  The argument `on_boundary` is `True`\n",
    "if `x` is on the physical boundary of the mesh, so in the present\n",
    "case, where we are supposed to return `True` for all points on the\n",
    "boundary, we can just return the supplied value of `on_boundary`. The\n",
    "`u0_boundary` function will be called for every discrete point in the\n",
    "mesh, which allows us to have boundaries where $u$ are known also\n",
    "inside the domain, if desired.\n",
    "\n",
    "One way to think about the specification of boundaries in FEniCS is\n",
    "that FEniCS will ask you (or rather the function `u0_boundary` which\n",
    "you have implemented) whether or not a specific point `x` is part of\n",
    "the boundary. FEniCS already knows whether the point belongs to the\n",
    "*actual* boundary (the mathematical boundary of the domain) and kindly\n",
    "shares this information with you in the variable `on_boundary`. You\n",
    "may choose to use this information (as we do here), or ignore it\n",
    "completely.\n",
    "\n",
    "The argument `on_boundary` may also be omitted, but in that case we need\n",
    "to test on the value of the coordinates in `x`:"
   ]
  },
  {
   "cell_type": "markdown",
   "metadata": {},
   "source": [
    "```Python\n",
    "        def u0_boundary(x):\n",
    "            return x[0] == 0 or x[1] == 0 or x[0] == 1 or x[1] == 1\n",
    "```"
   ]
  },
  {
   "cell_type": "markdown",
   "metadata": {},
   "source": [
    "Comparing floating-point values using an exact match test with\n",
    "`==` is not good programming practice, because small round-off errors\n",
    "in the computations of the `x` values could make a test `x[0] == 1`\n",
    "become false even though `x` lies on the boundary.  A better test is\n",
    "to check for equality with a tolerance, either explicitly"
   ]
  },
  {
   "cell_type": "markdown",
   "metadata": {},
   "source": [
    "```Python\n",
    "        def u0_boundary(x):\n",
    "            return abs(x[0]) < tol or abs(x[1]) < tol \\\n",
    "                or abs((x[0] - 1) < tol or abs(x[1] - 1) < tol\n",
    "```"
   ]
  },
  {
   "cell_type": "markdown",
   "metadata": {},
   "source": [
    "or with the `near` command in FEniCS:"
   ]
  },
  {
   "cell_type": "markdown",
   "metadata": {},
   "source": [
    "```Python\n",
    "        def u0_boundary(x):\n",
    "            return near(x[0], 0, tol) or near(x[1], 0, tol) \\\n",
    "                or near(x[0], 1, tol) or near(x[1], 1, tol)\n",
    "```"
   ]
  },
  {
   "cell_type": "markdown",
   "metadata": {},
   "source": [
    "### Defining the source term\n",
    "\n",
    "Before defining the bilinear and linear forms $a(u,v)$ and $L(v)$ we\n",
    "have to specify the source term $f$:"
   ]
  },
  {
   "cell_type": "markdown",
   "metadata": {},
   "source": [
    "```Python\n",
    "        f = Expression('-6')\n",
    "```"
   ]
  },
  {
   "cell_type": "markdown",
   "metadata": {},
   "source": [
    "When $f$ is constant over the domain, `f` can be\n",
    "more efficiently represented as a `Constant`:"
   ]
  },
  {
   "cell_type": "markdown",
   "metadata": {},
   "source": [
    "```Python\n",
    "        f = Constant(-6)\n",
    "```"
   ]
  },
  {
   "cell_type": "markdown",
   "metadata": {},
   "source": [
    "### Defining the variational problem\n",
    "\n",
    "We now have all the ingredients we need to define the\n",
    "variational problem:"
   ]
  },
  {
   "cell_type": "markdown",
   "metadata": {},
   "source": [
    "```Python\n",
    "        a = dot(grad(u), grad(v))*dx\n",
    "        L = f*v*dx\n",
    "```"
   ]
  },
  {
   "cell_type": "markdown",
   "metadata": {},
   "source": [
    "In essence, these two lines specify the PDE to be solved.  Note the\n",
    "very close correspondence between the Python syntax and the\n",
    "mathematical formulas $\\nabla u\\cdot\\nabla v {\\, \\mathrm{d}x}$ and $fv {\\, \\mathrm{d}x}$.  This\n",
    "is a key strength of FEniCS: the formulas in the variational\n",
    "formulation translate directly to very similar Python code, a feature\n",
    "that makes it easy to specify and solve complicated PDE problems.  The\n",
    "language used to express weak forms is called UFL (Unified Form\n",
    "Language) [[UFL_2014;@FEniCS]](#UFL_2014;@FEniCS) and is an integral part of FEniCS.\n",
    "\n",
    "<!-- Instead of `grad` we could also just have written `grad` in the -->\n",
    "<!-- examples in this tutorial. However, when taking gradients of vector -->\n",
    "<!-- fields, `grad` and `grad` differ. The latter is consistent with -->\n",
    "<!-- the tensor algebra commonly used to derive vector and tensor PDEs, -->\n",
    "<!-- where $\\nabla$ (\"nabla\") acts as a vector operator, and therefore -->\n",
    "<!-- this author prefers to always use `grad`. -->\n",
    "\n",
    "### Forming and solving the linear system\n",
    "\n",
    "Having defined the finite element variational problem and boundary\n",
    "condition, we can now ask FEniCS to compute the solution:"
   ]
  },
  {
   "cell_type": "markdown",
   "metadata": {},
   "source": [
    "```Python\n",
    "        u = Function(V)\n",
    "        solve(a == L, u, bc)\n",
    "```"
   ]
  },
  {
   "cell_type": "markdown",
   "metadata": {},
   "source": [
    "<!-- Some prefer to replace `a` and `L` by an `equation` -->\n",
    "<!-- variable, which is accomplished by this equivalent code: -->\n",
    "\n",
    "<!-- !bc pycod -->\n",
    "<!-- equation = dot(grad(u), grad(v))*dx == f*v*dx -->\n",
    "<!-- u = Function(V) -->\n",
    "<!-- solve(equation, u, bc) -->\n",
    "<!-- !ec -->\n",
    "\n",
    "Note that we first defined the variable `u` as a `TrialFunction` and\n",
    "used it to represent the unknown in the form `a`. Thereafter, we\n",
    "redefined `u` to be a `Function` object representing the solution;\n",
    "i.e., the computed finite element function $u$. This redefinition of\n",
    "the variable `u` is possible in Python and often done in FEniCS\n",
    "applications for linear problems. The two types of objects that `u`\n",
    "refers to are equal from a mathematical point of view, and hence it is\n",
    "natural to use the same variable name for both objects.\n",
    "\n",
    "\n",
    "[AL 3: I AM HERE]\n",
    "\n",
    "### Examining the values of the solution\n",
    "\n",
    "The present test problem should produce a numerical solution that\n",
    "equals the exact solution to machine precision. That is, there are\n",
    "no approximation errors in our test problem. We can use this property\n",
    "to \"prove\" that our implementation is correct, a necessary first step\n",
    "before we try to apply our code to more complicated problems.\n",
    "For such verification, we need\n",
    "to compare the computed `u` function to `u0`.\n",
    "\n",
    "A finite element function like $u$ is expressed as a linear combination\n",
    "of basis functions $\\phi_j$, spanning the space $V$:"
   ]
  },
  {
   "cell_type": "markdown",
   "metadata": {},
   "source": [
    "<!-- Equation labels as ordinary links -->\n",
    "<div id=\"ftut:poisson1:ufem\"></div>\n",
    "\n",
    "$$\n",
    "\\begin{equation}\n",
    "u = \\sum_{j=1}^N U_j \\phi_j \\label{ftut:poisson1:ufem} \\tag{9}{\\thinspace .}\n",
    "\\end{equation}\n",
    "$$"
   ]
  },
  {
   "cell_type": "markdown",
   "metadata": {},
   "source": [
    "By writing `solve(a == L, u, bc)` in the program, a linear system\n",
    "will be formed from $a$ and $L$, and this system is solved for the\n",
    "$U_1,\\ldots,U_N$ values. The $U_1,\\ldots,U_N$ values are known\n",
    "as *degrees of freedom* of $u$. For Lagrange elements (and many other\n",
    "element types) $U_k$ is simply the value of $u$ at the node\n",
    "with global number $k$.\n",
    "The nodes and cell vertices coincide for linear Lagrange elements, while\n",
    "for higher-order elements there are additional nodes at\n",
    "the facets and maybe also in the interior of cells.\n",
    "\n",
    "Having `u` represented as a `Function` object, we can either evaluate\n",
    "`u(x)` at any point `x` in the mesh (expensive operation!),\n",
    "or we can grab all the degrees of\n",
    "freedom values $U_j$ directly by"
   ]
  },
  {
   "cell_type": "markdown",
   "metadata": {},
   "source": [
    "```Python\n",
    "        u_nodal_values = u.vector()\n",
    "```"
   ]
  },
  {
   "cell_type": "markdown",
   "metadata": {},
   "source": [
    "The result is a `Vector` object, which is basically an\n",
    "encapsulation of the vector object used in the linear algebra package\n",
    "that is used to solve the linear system arising from the\n",
    "variational problem.\n",
    "Since we program in Python it is convenient to convert the\n",
    "`Vector` object to a standard `numpy` array for further\n",
    "processing:"
   ]
  },
  {
   "cell_type": "markdown",
   "metadata": {},
   "source": [
    "```Python\n",
    "        u_array = u_nodal_values.array()\n",
    "```"
   ]
  },
  {
   "cell_type": "markdown",
   "metadata": {},
   "source": [
    "With `numpy` arrays we can write MATLAB-like code to analyze\n",
    "the data. Indexing is done with square brackets: `u_array[i]`,\n",
    "where the index `i` always starts at `0`. However, `i` corresponds\n",
    "to $u$ at some point in the mesh and the correspondence requires\n",
    "knowledge of the numbering of degrees of freedom and the numbering of\n",
    "vertices in elements in the\n",
    "mesh.\n",
    "\n",
    "\n",
    "For now, we want to check that the values in `u_array` are correct:\n",
    "they should equal our `u0` function. The most natural approach is\n",
    "to interpolate our `u0` expression onto our space\n",
    "(i.e., the finite element mesh),"
   ]
  },
  {
   "cell_type": "markdown",
   "metadata": {},
   "source": [
    "```Python\n",
    "        u0_Function = interpolate(u0, V)\n",
    "```"
   ]
  },
  {
   "cell_type": "markdown",
   "metadata": {},
   "source": [
    "The `interpolate` function returns a `Function` object, whose degrees\n",
    "of freedom values can be obtained by `.vector().array()`.  Our goal is\n",
    "to show that the degrees of freedom arrays of `u` and `u0_Function`\n",
    "are equal. One safe of doing this is to compute the maximum error,"
   ]
  },
  {
   "cell_type": "markdown",
   "metadata": {},
   "source": [
    "```Python\n",
    "        u0_array = u0_Function.vector().array()  # dof values\n",
    "        max_error = (u0_array - u.vector().array()).max()\n",
    "        print('max error:', max_error)\n",
    "```"
   ]
  },
  {
   "cell_type": "markdown",
   "metadata": {},
   "source": [
    "**How to check that the error vanishes?**\n",
    "\n",
    "With inexact arithmetics, as we always have on a computer,\n",
    "this maximum error is not zero, but should be a small number.\n",
    "The machine precision is about $10^{-16}$, but in finite element\n",
    "calculations, rounding errors of this size may accumulate, so\n",
    "the expected accuracy of `max_error` smaller. Experiments show\n",
    "that increasing the number of elements and increasing the degree\n",
    "of the finite element polynomials increase `max_error`.\n",
    "For a mesh with $2(20\\times 20)$ cubic Lagrange elements (degree 3)\n",
    "`max_error` is about $2\\cdot 10^{-12}$, while for 18 linear elements\n",
    "the maximum error is about $2\\cdot 10^{-15}$.\n",
    "\n",
    "\n",
    "\n",
    "### Plotting the solution\n",
    "\n",
    "The simplest way of quickly looking at `u` is to say"
   ]
  },
  {
   "cell_type": "markdown",
   "metadata": {},
   "source": [
    "```Python\n",
    "        plot(u, interactive=True)\n",
    "        # or\n",
    "        plot(u)\n",
    "        interactive()\n",
    "```"
   ]
  },
  {
   "cell_type": "markdown",
   "metadata": {},
   "source": [
    "Clicking on `Help` in the plot windows brings up a list of commands.\n",
    "For example, typing `m` brings up the mesh.  With the left, middle,\n",
    "and right mouse buttons you can rotate, translate, and zoom\n",
    "(respectively) the plotted surface to better examine what the solution\n",
    "looks like. You must click `Ctrl+q` to kill the plot window and\n",
    "continue execution beyond the `plot(u, interactive=True)` command or\n",
    "`interactive()`.\n",
    "\n",
    "Plotting both the solution and the mesh is accomplished by"
   ]
  },
  {
   "cell_type": "markdown",
   "metadata": {},
   "source": [
    "```Python\n",
    "        plot(u)\n",
    "        plot(mesh)\n",
    "        # Hold plot\n",
    "        interactive()\n",
    "```"
   ]
  },
  {
   "cell_type": "markdown",
   "metadata": {},
   "source": [
    "Type `Ctrl+w` to kill all plot windows and continue execution.\n",
    "\n",
    "It is also possible to dump the computed solution to file, e.g., in the\n",
    "VTK format:"
   ]
  },
  {
   "cell_type": "markdown",
   "metadata": {},
   "source": [
    "```Python\n",
    "        vtkfile = File('poisson.pvd')\n",
    "        vtkfile << u\n",
    "```"
   ]
  },
  {
   "cell_type": "markdown",
   "metadata": {},
   "source": [
    "The `poisson.pvd` file can now be loaded into any front-end to VTK,\n",
    "say ParaView or VisIt. The `plot` function is intended for quick\n",
    "examination of the solution during program development.  More in-depth\n",
    "visual investigations of finite element solutions will normally\n",
    "benefit from using highly professional tools such as ParaView and\n",
    "VisIt.\n",
    "\n",
    "\n",
    "Prior to plotting and storing solutions to file it is wise to\n",
    "give `u` a proper name by `u.rename('u', 'solution')`. Then\n",
    "`u` will be used as name in plots (rather than the more cryptic\n",
    "default names like `f_7`).\n",
    "\n",
    "## Plotting in ParaView\n",
    "\n",
    "Just to get you quickly started with ParaView, launch the application,\n",
    "choose **File - Open**, find the file `poisson.pvd`, and click the green **Apply**\n",
    "button to the left in the GUI. A 2D color plot of $u(x,y)$ is then shown.\n",
    "You can save the figure to file by **File - Export Scene...** and choosing\n",
    "a suitable filename.\n",
    "\n",
    "<!-- dom:FIGURE: [fig/poisson0_paraview.png, weight=800 frac=1] Visualization of test problem in ParaView, with contour lines added in the right plot. -->\n",
    "<!-- begin figure -->\n",
    "\n",
    "<p>Visualization of test problem in ParaView, with contour lines added in the right plot.</p>\n",
    "<img src=\"fig/poisson0_paraview.png\" weight=800>\n",
    "\n",
    "<!-- end figure -->\n",
    "\n",
    "\n",
    "\n",
    "# Bibliography\n",
    "\n",
    " 1. <div id=\"ArnoldLogg2014\"></div> **D. N. Arnold and A. Logg**. \n",
    "    Periodic Table of the Finite Elements,\n",
    "    *SIAM News*,\n",
    "    2014.\n",
    "\n",
    " 2. <div id=\"UFL_2014\"></div> **M. S. Alnæs, A. Logg, K. B. Ølgaard, M. E. Rognes and G. N. Wells**. \n",
    "    Unified Form Language: A domain-specific language for weak formulations of partial differential equations,\n",
    "    *ACM Transactions on Mathematical Software*,\n",
    "    40(2),\n",
    "    2014,\n",
    "    doi:10.1145/2566630, arXiv:1211.4047.\n",
    "\n",
    " 3. <div id=\"FEniCS\"></div> **A. Logg, K.-A. Mardal and G. N. Wells**. \n",
    "    Automated Solution of Partial Differential Equations by the Finite Element Method,\n",
    "    Springer,\n",
    "    2012."
   ]
  }
 ],
 "metadata": {},
 "nbformat": 4,
 "nbformat_minor": 0
}
